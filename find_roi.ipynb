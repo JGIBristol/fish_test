{
 "cells": [
  {
   "cell_type": "markdown",
   "metadata": {},
   "source": [
    "Find ROI from fish scan using NN\n",
    "===="
   ]
  },
  {
   "cell_type": "code",
   "execution_count": 1,
   "metadata": {},
   "outputs": [],
   "source": [
    "%load_ext autoreload\n",
    "%autoreload 2"
   ]
  },
  {
   "cell_type": "code",
   "execution_count": 2,
   "metadata": {},
   "outputs": [
    {
     "name": "stdout",
     "output_type": "stream",
     "text": [
      "/home/mh19137/zebrafish_rdsf/DATABASE/uCT/Wahab_clean_dataset/low_res_clean_v3/\n"
     ]
    }
   ],
   "source": [
    "\"\"\"\n",
    "Directory path for RDSF fish data\n",
    "\n",
    "\"\"\"\n",
    "import os\n",
    "\n",
    "# Where I've mounted it\n",
    "rdsf_dir = os.path.expanduser(\"~/zebrafish_rdsf/\")\n",
    "\n",
    "data_dir = os.path.join(rdsf_dir, \"DATABASE/uCT/Wahab_clean_dataset/low_res_clean_v3/\")\n",
    "\n",
    "print(data_dir)\n",
    "assert os.path.isdir(data_dir)"
   ]
  },
  {
   "cell_type": "code",
   "execution_count": null,
   "metadata": {},
   "outputs": [],
   "source": [
    "\"\"\"\n",
    "Read a subset of the images\n",
    "\n",
    "\"\"\"\n",
    "\n",
    "import numpy as np\n",
    "from tqdm import tqdm\n",
    "\n",
    "from dev import image_io\n",
    "\n",
    "good_imgs = [41, 42, 44, 47, 49, 61, 62]\n",
    "\n",
    "images = [\n",
    "    (\n",
    "        image_io.read_tiffstack(n)\n",
    "        if not os.path.exists(f\"data_cache/{n}.npy\")\n",
    "        else np.load(f\"data_cache/{n}.npy\")\n",
    "    )\n",
    "    for n in tqdm(good_imgs)\n",
    "]"
   ]
  },
  {
   "cell_type": "code",
   "execution_count": null,
   "metadata": {},
   "outputs": [],
   "source": [
    "\"\"\"\n",
    "Cache them because it took ages to read\n",
    "\n",
    "\"\"\"\n",
    "\n",
    "if not os.path.exists(\"data_cache\"):\n",
    "    os.mkdir(\"data_cache\")\n",
    "\n",
    "for i, img in zip(good_imgs, images):\n",
    "    if not os.path.exists(f\"data_cache/{i}.npy\"):\n",
    "        np.save(f\"data_cache/{i}.npy\", img)"
   ]
  },
  {
   "cell_type": "code",
   "execution_count": null,
   "metadata": {},
   "outputs": [],
   "source": [
    "\"\"\"\n",
    "Downsample the arrays\n",
    "\n",
    "\"\"\"\n",
    "\n",
    "from multiprocessing import Pool, Manager\n",
    "\n",
    "from skimage.transform import resize\n",
    "\n",
    "rescaled_size = (512, 512, 512)\n",
    "\n",
    "downsampled_images = Manager().dict()\n",
    "\n",
    "\n",
    "def downsample(i: int) -> None:\n",
    "    \"\"\"Downsample an image and add it to the dict\"\"\"\n",
    "    downsampled_images[i] = resize(images[i], rescaled_size, order=0)\n",
    "\n",
    "\n",
    "with Pool() as pool:\n",
    "    pool.map(downsample, range(len(images)))\n",
    "\n",
    "downsampled_images = list(downsampled_images.values())\n",
    "len(downsampled_images)"
   ]
  },
  {
   "cell_type": "code",
   "execution_count": null,
   "metadata": {},
   "outputs": [],
   "source": [
    "del images"
   ]
  },
  {
   "cell_type": "code",
   "execution_count": null,
   "metadata": {},
   "outputs": [],
   "source": [
    "\"\"\"\n",
    "Find the jaw location in these images from the metadata\n",
    "\n",
    "\"\"\"\n",
    "\n",
    "from dev import metadata\n",
    "\n",
    "# Get the mastersheet\n",
    "mastersheet = metadata.mastersheet()\n",
    "\n",
    "# Choose the right rows\n",
    "mastersheet = mastersheet[mastersheet[\"old_n\"].isin(good_imgs)]\n",
    "assert len(mastersheet) == len(good_imgs)\n",
    "\n",
    "# Convert to dict\n",
    "jaw_locs = dict(zip(mastersheet[\"old_n\"], mastersheet[\"jaw_center\"]))\n",
    "\n",
    "# Convert values in the dict to tuples of [Z X Y]\n",
    "jaw_locs = {k: image_io.parse_roi(v) for k, v in jaw_locs.items()}\n",
    "jaw_locs"
   ]
  },
  {
   "cell_type": "code",
   "execution_count": null,
   "metadata": {},
   "outputs": [],
   "source": [
    "# Scale the locations to be in the downsampled space\n",
    "\n",
    "downsampled_jaw_locs = [[i / 10 for i in v] for v in jaw_locs.values()]\n",
    "downsampled_jaw_locs"
   ]
  },
  {
   "cell_type": "code",
   "execution_count": null,
   "metadata": {},
   "outputs": [],
   "source": [
    "from dev import plot\n",
    "\n",
    "fig, axes = plot.plot_arr(downsampled_images[4])\n",
    "print(downsampled_jaw_locs[4])\n",
    "fig.savefig(\"downsampled.png\")"
   ]
  },
  {
   "cell_type": "code",
   "execution_count": null,
   "metadata": {},
   "outputs": [],
   "source": [
    "\"\"\"\n",
    "Convert them to the right format for the model\n",
    "\n",
    "\"\"\"\n",
    "\n",
    "import torch\n",
    "\n",
    "# Normalise, convert to tensor and reshape\n",
    "tensors = [image_io.img2pytorch(img) for img in tqdm(downsampled_images)]"
   ]
  },
  {
   "cell_type": "code",
   "execution_count": null,
   "metadata": {},
   "outputs": [],
   "source": [
    "# Convert to a dataset\n",
    "from torch.utils.data import Dataset\n",
    "\n",
    "\n",
    "class JawLocationDataset(Dataset):\n",
    "    def __init__(\n",
    "        self,\n",
    "        tensors: list[torch.tensor],\n",
    "        locations: list[tuple[int, int, int]],\n",
    "    ):\n",
    "        self.tensors = tensors\n",
    "        self.locations = torch.tensor(locations, dtype=torch.float32)\n",
    "\n",
    "        assert len(tensors) == len(locations)\n",
    "\n",
    "    def __len__(self):\n",
    "        return len(self.tensors)\n",
    "\n",
    "    def __getitem__(self, idx):\n",
    "        \"\"\"\n",
    "        Returns a tuple of (image, location)\n",
    "\n",
    "        \"\"\"\n",
    "        return self.tensors[idx], self.locations[idx]"
   ]
  },
  {
   "cell_type": "code",
   "execution_count": null,
   "metadata": {},
   "outputs": [],
   "source": [
    "# Pad the images\n",
    "from torch.utils.data import DataLoader\n",
    "from torch.nn.functional import pad\n",
    "\n",
    "\n",
    "def collate(batch):\n",
    "    max_depth = 0\n",
    "    max_height = 0\n",
    "    max_width = 0\n",
    "    processed_batch = []\n",
    "\n",
    "    # Find the max dimensions\n",
    "    for item in batch:\n",
    "        data, target = item\n",
    "        depth, height, width = (\n",
    "            data.size(1),\n",
    "            data.size(2),\n",
    "            data.size(3),\n",
    "        )  # Assuming data shape is [C, D, H, W]\n",
    "        if depth > max_depth:\n",
    "            max_depth = depth\n",
    "        if height > max_height:\n",
    "            max_height = height\n",
    "        if width > max_width:\n",
    "            max_width = width\n",
    "\n",
    "    # Pad the images\n",
    "    for item in batch:\n",
    "        data, target = item\n",
    "        depth, height, width = data.size(1), data.size(2), data.size(3)\n",
    "        # Calculate padding\n",
    "        pad_left = (max_width - width) // 2\n",
    "        pad_right = max_width - width - pad_left\n",
    "        pad_top = (max_height - height) // 2\n",
    "        pad_bottom = max_height - height - pad_top\n",
    "        pad_front = (max_depth - depth) // 2\n",
    "        pad_back = max_depth - depth - pad_front\n",
    "        # Apply padding\n",
    "        padded_data = pad(\n",
    "            data,\n",
    "            (pad_left, pad_right, pad_top, pad_bottom, pad_front, pad_back),\n",
    "            \"constant\",\n",
    "            0,\n",
    "        )\n",
    "        processed_batch.append((padded_data, target))\n",
    "\n",
    "    # Use the default collate function here for the padded batch\n",
    "    return torch.utils.data.dataloader.default_collate(processed_batch)\n",
    "\n",
    "\n",
    "dataset = JawLocationDataset(tensors, downsampled_jaw_locs)\n",
    "dataloader = DataLoader(\n",
    "    dataset, batch_size=1, shuffle=True, collate_fn=collate\n",
    ")  # TODO multiple workers"
   ]
  },
  {
   "cell_type": "code",
   "execution_count": null,
   "metadata": {},
   "outputs": [],
   "source": [
    "# Create a model for learning the jaw centre\n",
    "import torch.nn as nn\n",
    "import torch.nn.functional as F\n",
    "\n",
    "\n",
    "class ResidualBlock(nn.Module):\n",
    "    def __init__(self, in_channels, out_channels, stride=1):\n",
    "        # Run the Module constructor to make\n",
    "        super(ResidualBlock, self).__init__()\n",
    "\n",
    "        self.conv1 = nn.Conv3d(\n",
    "            in_channels,\n",
    "            out_channels,\n",
    "            kernel_size=3,\n",
    "            stride=stride,\n",
    "            padding=1,\n",
    "            bias=False,\n",
    "        )\n",
    "        self.bn1 = nn.BatchNorm3d(out_channels)\n",
    "        self.conv2 = nn.Conv3d(\n",
    "            out_channels, out_channels, kernel_size=3, stride=1, padding=1, bias=False\n",
    "        )\n",
    "        self.bn2 = nn.BatchNorm3d(out_channels)\n",
    "\n",
    "        self.shortcut = nn.Sequential()\n",
    "        if stride != 1 or in_channels != out_channels:\n",
    "            self.shortcut = nn.Sequential(\n",
    "                nn.Conv3d(\n",
    "                    in_channels, out_channels, kernel_size=1, stride=stride, bias=False\n",
    "                ),\n",
    "                nn.BatchNorm3d(out_channels),\n",
    "            )\n",
    "\n",
    "    def forward(self, x):\n",
    "        out = F.relu(self.bn1(self.conv1(x)))\n",
    "        out = self.bn2(self.conv2(out))\n",
    "        out += self.shortcut(x)\n",
    "        out = F.relu(out)\n",
    "        return out"
   ]
  },
  {
   "cell_type": "code",
   "execution_count": null,
   "metadata": {},
   "outputs": [],
   "source": [
    "\"\"\"\n",
    "Define the model architecture\n",
    "\n",
    "\"\"\"\n",
    "\n",
    "\n",
    "class ResNet3D(nn.Module):\n",
    "    def __init__(self):\n",
    "        super(ResNet3D, self).__init__()\n",
    "\n",
    "        self.conv1 = nn.Conv3d(\n",
    "            in_channels=1, out_channels=64, kernel_size=3, stride=1, padding=1\n",
    "        )\n",
    "        self.bn1 = nn.BatchNorm3d(64)\n",
    "        self.pool = nn.MaxPool3d(kernel_size=2, stride=2)\n",
    "\n",
    "        # Residual blocks\n",
    "        self.resblock1 = ResidualBlock(64, 128)\n",
    "        self.resblock2 = ResidualBlock(128, 256)\n",
    "        self.resblock3 = ResidualBlock(256, 512)\n",
    "\n",
    "        self.flatten = nn.Flatten()\n",
    "        self.dropout = nn.Dropout(0.5)\n",
    "\n",
    "        self.fc1 = nn.Linear(256 * 20 * 20 * 20, 512)\n",
    "        self.fc2 = nn.Linear(256, 3)  # Output layer for 3 coordinates\n",
    "\n",
    "    def forward(self, x):\n",
    "        x = self.pool(F.relu(self.bn1(self.conv1(x))))\n",
    "        x = self.pool(F.relu(self.resblock1(x)))\n",
    "        x = self.pool(F.relu(self.resblock2(x)))\n",
    "        x = self.flatten(x)\n",
    "        x = F.relu(self.fc1(x))\n",
    "        x = self.dropout(x)\n",
    "        x = self.fc2(x)\n",
    "        return x\n",
    "\n",
    "\n",
    "model = ResNet3D()\n",
    "print(model)\n",
    "\n",
    "# Define loss function and optimizer\n",
    "criterion = nn.MSELoss()\n",
    "optimizer = torch.optim.Adam(model.parameters())"
   ]
  },
  {
   "cell_type": "code",
   "execution_count": null,
   "metadata": {},
   "outputs": [],
   "source": [
    "torch.cuda.is_available()"
   ]
  },
  {
   "cell_type": "code",
   "execution_count": null,
   "metadata": {},
   "outputs": [],
   "source": [
    "\"\"\"\n",
    "Train and dump the model\n",
    "\n",
    "\"\"\"\n",
    "device = \"cuda\"\n",
    "\n",
    "model.to(device)\n",
    "\n",
    "loss = []\n",
    "epoch = []\n",
    "n_epochs = 5\n",
    "for epoch in range(n_epochs):\n",
    "    model.train()\n",
    "    epoch_loss = 0.0\n",
    "    for image, location in dataloader:\n",
    "        image, location = image.to(device), location.to(device)\n",
    "\n",
    "        optimizer.zero_grad()\n",
    "        outputs = model(image)\n",
    "        loss = criterion(outputs, location)\n",
    "        loss.backward()\n",
    "        optimizer.step()\n",
    "        epoch_loss += loss.item()\n",
    "    epoch_loss /= len(dataloader)\n",
    "    loss.append(epoch_loss)"
   ]
  },
  {
   "cell_type": "code",
   "execution_count": null,
   "metadata": {},
   "outputs": [],
   "source": [
    "\"\"\"\n",
    "Plot the training loss\n",
    "\n",
    "\"\"\"\n",
    "import matplotlib.pyplot as plt\n",
    "plt.plot(range(1, n_epochs + 1), loss)"
   ]
  },
  {
   "cell_type": "code",
   "execution_count": null,
   "metadata": {},
   "outputs": [],
   "source": []
  },
  {
   "cell_type": "code",
   "execution_count": null,
   "metadata": {},
   "outputs": [],
   "source": [
    "# Make a diagram of the architecture\n",
    "from torchviz import make_dot\n",
    "\n",
    "dummy_input = torch.randn(1, 1, 160, 160, 160)\n",
    "dummy_output = model(dummy_input)\n",
    "\n",
    "graph = make_dot(dummy_output, params=dict(model.named_parameters()))\n",
    "\n",
    "graph.render(\"model\", format=\"png\")"
   ]
  },
  {
   "cell_type": "code",
   "execution_count": null,
   "metadata": {},
   "outputs": [],
   "source": [
    "# Convert some arrays into numpy arrays\n",
    "import pathlib\n",
    "from multiprocessing import Pool\n",
    "\n",
    "array_dir = pathlib.Path(\"arrays/\")\n",
    "array_dir.mkdir(exist_ok=True)\n",
    "\n",
    "# Choose some arrays to save\n",
    "array_ns = [44, 68, 414]"
   ]
  },
  {
   "cell_type": "code",
   "execution_count": null,
   "metadata": {},
   "outputs": [],
   "source": [
    "def save_array(n: int) -> None:\n",
    "    if not (array_dir / f\"{n}.npy\").exists():\n",
    "        array = tifs2array(n2dir(n), progress=False)\n",
    "        np.save(array_dir / f\"{n}.npy\", array)\n",
    "\n",
    "\n",
    "# Will need to change this as array_ns gets bigger\n",
    "with Pool(processes=len(array_ns)) as pool:\n",
    "    pool.map(\n",
    "        save_array,\n",
    "        array_ns,\n",
    "    )"
   ]
  },
  {
   "cell_type": "code",
   "execution_count": null,
   "metadata": {},
   "outputs": [],
   "source": [
    "# Check them\n",
    "import numpy as np\n",
    "\n",
    "for n in array_ns:\n",
    "    arr = np.load(array_dir / f\"{n}.npy\")\n",
    "    roi = get_roi(n)\n",
    "    cropped_array = crop_image(arr, roi)\n",
    "    plot_slices(cropped_array)"
   ]
  },
  {
   "cell_type": "code",
   "execution_count": null,
   "metadata": {},
   "outputs": [],
   "source": [
    "# Reshape the arrays into a format that the model can use\n",
    "train_arrs = [np.expand_dims(np.load(array_dir / f\"{n}.npy\"), axis=0) for n in array_ns]\n",
    "print(train_arrs[0].shape)"
   ]
  },
  {
   "cell_type": "code",
   "execution_count": null,
   "metadata": {},
   "outputs": [],
   "source": [
    "# Get the jaw centres from the metadata\n",
    "centres = [get_roi(n) for n in array_ns]\n",
    "centres"
   ]
  },
  {
   "cell_type": "code",
   "execution_count": null,
   "metadata": {},
   "outputs": [],
   "source": [
    "# Parse the jaw centres to get the right numbers out"
   ]
  },
  {
   "cell_type": "code",
   "execution_count": null,
   "metadata": {},
   "outputs": [],
   "source": [
    "# Train the model on a few jaws, look at training loss etc\n"
   ]
  }
 ],
 "metadata": {
  "kernelspec": {
   "display_name": "Python 3",
   "language": "python",
   "name": "python3"
  },
  "language_info": {
   "codemirror_mode": {
    "name": "ipython",
    "version": 3
   },
   "file_extension": ".py",
   "mimetype": "text/x-python",
   "name": "python",
   "nbconvert_exporter": "python",
   "pygments_lexer": "ipython3",
   "version": "3.12.3"
  }
 },
 "nbformat": 4,
 "nbformat_minor": 2
}
