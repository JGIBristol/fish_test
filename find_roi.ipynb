{
 "cells": [
  {
   "cell_type": "markdown",
   "metadata": {},
   "source": [
    "Find ROI from fish scan using NN\n",
    "===="
   ]
  },
  {
   "cell_type": "code",
   "execution_count": 34,
   "metadata": {},
   "outputs": [
    {
     "name": "stderr",
     "output_type": "stream",
     "text": [
      "--2024-06-13 12:04:54--  https://raw.githubusercontent.com/wahabk/ctfishpy/master/ctfishpy/Metadata/uCT_mastersheet.csv\n",
      "Resolving raw.githubusercontent.com (raw.githubusercontent.com)... 185.199.108.133, 185.199.110.133, 185.199.111.133, ...\n",
      "Connecting to raw.githubusercontent.com (raw.githubusercontent.com)|185.199.108.133|:443... connected.\n",
      "HTTP request sent, awaiting response... 200 OK\n",
      "Length: 103737 (101K) [text/plain]\n",
      "Saving to: ‘uCT_mastersheet.csv’\n",
      "\n",
      "     0K .......... .......... .......... .......... .......... 49% 8.01M 0s\n",
      "    50K .......... .......... .......... .......... .......... 98% 9.23M 0s\n",
      "   100K .                                                     100% 2490G=0.01s\n",
      "\n",
      "2024-06-13 12:04:54 (8.69 MB/s) - ‘uCT_mastersheet.csv’ saved [103737/103737]\n",
      "\n"
     ]
    }
   ],
   "source": [
    "\"\"\"\n",
    "Download the metadata from the mastersheet\n",
    "\n",
    "\"\"\"\n",
    "\n",
    "import os\n",
    "import subprocess\n",
    "\n",
    "if not os.path.exists(\"uCT_mastersheet.csv\"):\n",
    "    subprocess.run(\n",
    "        [\n",
    "            \"wget\",\n",
    "            \"https://raw.githubusercontent.com/wahabk/ctfishpy/master/ctfishpy/Metadata/uCT_mastersheet.csv\",\n",
    "        ],\n",
    "        check=True,\n",
    "    )"
   ]
  },
  {
   "cell_type": "code",
   "execution_count": 17,
   "metadata": {},
   "outputs": [],
   "source": [
    "# Directory path for RDSF fish data\n",
    "rdsf_dir = os.path.expanduser(\n",
    "    \"~/zebrafish_rdsf/smb-share:server=rdsfcifs.acrc.bris.ac.uk,share=zebrafish_osteoarthritis\"\n",
    ")\n",
    "\n",
    "data_dir = os.path.join(rdsf_dir, \"DATABASE/uCT/Wahab_clean_dataset/low_res_clean_v3/\")\n",
    "\n",
    "assert os.path.isdir(data_dir)"
   ]
  },
  {
   "cell_type": "code",
   "execution_count": 26,
   "metadata": {},
   "outputs": [],
   "source": [
    "# Choose a directory to use\n",
    "n = 70"
   ]
  },
  {
   "cell_type": "code",
   "execution_count": 29,
   "metadata": {},
   "outputs": [
    {
     "name": "stdout",
     "output_type": "stream",
     "text": [
      "/home/mh19137/zebrafish_rdsf/smb-share:server=rdsfcifs.acrc.bris.ac.uk,share=zebrafish_osteoarthritis/DATABASE/uCT/Wahab_clean_dataset/low_res_clean_v3/070/reconstructed_tifs\n"
     ]
    },
    {
     "name": "stderr",
     "output_type": "stream",
     "text": [
      "100%|██████████| 1999/1999 [01:12<00:00, 27.69it/s]\n"
     ]
    }
   ],
   "source": [
    "# Read the images into an array\n",
    "import pathlib\n",
    "\n",
    "import cv2\n",
    "import numpy as np\n",
    "from tqdm import tqdm\n",
    "\n",
    "\n",
    "def tifs2array(tif_dir: pathlib.Path) -> np.ndarray:\n",
    "    \"\"\"\n",
    "    Read in all the tifs in a directory and return them as a numpy array\n",
    "\n",
    "    \"\"\"\n",
    "    tifs = [\n",
    "        cv2.imread(str(tif), cv2.IMREAD_GRAYSCALE)\n",
    "        for tif in tqdm(sorted(list(tif_dir.glob(\"*.tiff\"))))\n",
    "    ]\n",
    "\n",
    "    return np.stack(tifs, axis=0)\n",
    "\n",
    "\n",
    "def n2dir(n: int) -> pathlib.Path:\n",
    "    return pathlib.Path(f\"{data_dir}/{n:03}/reconstructed_tifs/\")\n",
    "\n",
    "\n",
    "tif_dir = n2dir(n)\n",
    "print(tif_dir)\n",
    "array = tifs2array(tif_dir)"
   ]
  },
  {
   "cell_type": "code",
   "execution_count": 43,
   "metadata": {},
   "outputs": [
    {
     "data": {
      "text/plain": [
       "(1349, 330, 177)"
      ]
     },
     "execution_count": 43,
     "metadata": {},
     "output_type": "execute_result"
    }
   ],
   "source": [
    "# Get the jaw centre from metadata\n",
    "import re\n",
    "from functools import cache\n",
    "\n",
    "import pandas as pd\n",
    "\n",
    "\n",
    "@cache\n",
    "def _metadata() -> pd.DataFrame:\n",
    "    return pd.read_csv(\"uCT_mastersheet.csv\")\n",
    "\n",
    "\n",
    "def get_roi(n: int) -> tuple[int, int, int]:\n",
    "    \"\"\"Z X Y centre of region of interest\"\"\"\n",
    "    metadata = _metadata()\n",
    "    centre = metadata.loc[metadata[\"old_n\"] == n, \"jaw_center\"]\n",
    "\n",
    "    assert len(centre) == 1\n",
    "    return tuple(map(int, re.findall(r\"\\d+\", centre.iloc[0])))\n",
    "\n",
    "\n",
    "roi = get_roi(n)\n",
    "roi"
   ]
  },
  {
   "cell_type": "code",
   "execution_count": 20,
   "metadata": {},
   "outputs": [],
   "source": [
    "# Crop the image to the jaw centre"
   ]
  },
  {
   "cell_type": "code",
   "execution_count": 21,
   "metadata": {},
   "outputs": [],
   "source": [
    "# Show slices of cropped jaw"
   ]
  },
  {
   "cell_type": "code",
   "execution_count": 22,
   "metadata": {},
   "outputs": [],
   "source": [
    "# Create a model for learning the jaw centre"
   ]
  },
  {
   "cell_type": "code",
   "execution_count": 23,
   "metadata": {},
   "outputs": [],
   "source": [
    "# Reshape the arrays into a format that the model can use"
   ]
  },
  {
   "cell_type": "code",
   "execution_count": 24,
   "metadata": {},
   "outputs": [],
   "source": [
    "# Parse the jaw centres to get the right numbers out"
   ]
  },
  {
   "cell_type": "code",
   "execution_count": null,
   "metadata": {},
   "outputs": [],
   "source": [
    "# Train the model on a few jaws, look at training loss etc"
   ]
  }
 ],
 "metadata": {
  "kernelspec": {
   "display_name": "Python 3",
   "language": "python",
   "name": "python3"
  },
  "language_info": {
   "codemirror_mode": {
    "name": "ipython",
    "version": 3
   },
   "file_extension": ".py",
   "mimetype": "text/x-python",
   "name": "python",
   "nbconvert_exporter": "python",
   "pygments_lexer": "ipython3",
   "version": "3.12.3"
  }
 },
 "nbformat": 4,
 "nbformat_minor": 2
}
